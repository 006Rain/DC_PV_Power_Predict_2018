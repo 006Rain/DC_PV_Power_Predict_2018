{
 "cells": [
  {
   "cell_type": "code",
   "execution_count": 2,
   "metadata": {},
   "outputs": [],
   "source": [
    "import pandas as pd\n",
    "import numpy as np\n",
    "import seaborn as sns\n",
    "import matplotlib.pyplot as plt"
   ]
  },
  {
   "cell_type": "markdown",
   "metadata": {},
   "source": [
    "# 数据加载"
   ]
  },
  {
   "cell_type": "code",
   "execution_count": 4,
   "metadata": {},
   "outputs": [],
   "source": [
    "data_dir = 'D:\\\\Mine\\\\Py\\\\DC_PV_Power_Predict_2018\\\\DC_Data\\\\'\n",
    "\n",
    "data_train1 = pd.read_csv( data_dir + 'train_1.csv' )\n",
    "data_train2 = pd.read_csv( data_dir + 'train_2.csv' )\n",
    "data_train3 = pd.read_csv( data_dir + 'train_3.csv' )\n",
    "data_train4 = pd.read_csv( data_dir + 'train_4.csv' )\n",
    "data_train = pd.concat( [data_train1, data_train2, data_train3, data_train4] ) \n",
    "\n",
    "data_test1 = pd.read_csv( data_dir + 'test_1.csv' )\n",
    "data_test2 = pd.read_csv( data_dir + 'test_2.csv' )\n",
    "data_test3 = pd.read_csv( data_dir + 'test_3.csv' )\n",
    "data_test4 = pd.read_csv( data_dir + 'test_4.csv' )\n",
    "data_test = pd.concat( [data_test1, data_test2, data_test3, data_test4] )"
   ]
  },
  {
   "cell_type": "markdown",
   "metadata": {},
   "source": [
    "# 数据探索"
   ]
  },
  {
   "cell_type": "code",
   "execution_count": 10,
   "metadata": {},
   "outputs": [
    {
     "name": "stdout",
     "output_type": "stream",
     "text": [
      "                    时间  辐照度        风速   风向        温度        压强        湿度  \\\n",
      "0  2016-04-01 00:00:00 -1.0 -0.707547  251 -0.090909 -0.030303 -0.157895   \n",
      "1  2016-04-01 00:15:00 -1.0 -0.707547  251 -0.090909 -0.030303 -0.157895   \n",
      "2  2016-04-01 00:30:00 -1.0 -0.716981  250 -0.107071 -0.030303 -0.136842   \n",
      "3  2016-04-01 00:45:00 -1.0 -0.726415  248 -0.123232  0.030303 -0.094737   \n",
      "4  2016-04-01 01:00:00 -1.0 -0.735849  244 -0.135354  0.030303 -0.073684   \n",
      "\n",
      "   实发辐照度      实际功率  \n",
      "0    0.0 -0.019333  \n",
      "1    0.0 -0.019333  \n",
      "2    0.0 -0.021000  \n",
      "3    0.0 -0.022000  \n",
      "4    0.0 -0.022000  \n"
     ]
    }
   ],
   "source": [
    "print( data_train.head() )"
   ]
  },
  {
   "cell_type": "code",
   "execution_count": 8,
   "metadata": {},
   "outputs": [
    {
     "name": "stdout",
     "output_type": "stream",
     "text": [
      "   id                       时间  辐照度        风速   风向        温度        压强  \\\n",
      "0   1  2018-04-30 23:59:59.985 -1.0 -0.801887    8 -0.046465  0.272727   \n",
      "1   2  2018-05-01 00:14:59.985 -1.0 -0.783019    2 -0.058586  0.272727   \n",
      "2   3  2018-05-01 00:29:59.985 -1.0 -0.783019  358 -0.066667  0.272727   \n",
      "3   4  2018-05-01 00:44:59.985 -1.0 -0.773585  351 -0.078788  0.272727   \n",
      "4   5  2018-05-01 00:59:59.985 -1.0 -0.754717  344 -0.090909  0.272727   \n",
      "\n",
      "         湿度  \n",
      "0  0.221053  \n",
      "1  0.221053  \n",
      "2  0.221053  \n",
      "3  0.242105  \n",
      "4  0.242105  \n"
     ]
    }
   ],
   "source": [
    "print( data_test.head() )"
   ]
  },
  {
   "cell_type": "code",
   "execution_count": 13,
   "metadata": {},
   "outputs": [
    {
     "data": {
      "text/plain": [
       "<matplotlib.collections.PathCollection at 0x149a0b61048>"
      ]
     },
     "execution_count": 13,
     "metadata": {},
     "output_type": "execute_result"
    },
    {
     "data": {
      "image/png": "[encoded data removed]",
      "text/plain": [
       "<Figure size 432x288 with 1 Axes>"
      ]
     },
     "metadata": {
      "needs_background": "light"
     },
     "output_type": "display_data"
    }
   ],
   "source": [
    "plt.scatter( data_train['实发辐照度'], data_train['实际功率'] ) "
   ]
  },
  {
   "cell_type": "code",
   "execution_count": 5,
   "metadata": {},
   "outputs": [
    {
     "name": "stdout",
     "output_type": "stream",
     "text": [
      "<class 'pandas.core.frame.DataFrame'>\n",
      "Int64Index: 183093 entries, 0 to 42686\n",
      "Data columns (total 9 columns):\n",
      "时间       183093 non-null object\n",
      "辐照度      183093 non-null float64\n",
      "风速       183093 non-null float64\n",
      "风向       183093 non-null int64\n",
      "温度       183093 non-null float64\n",
      "压强       183093 non-null float64\n",
      "湿度       183093 non-null float64\n",
      "实发辐照度    183093 non-null float64\n",
      "实际功率     183093 non-null float64\n",
      "dtypes: float64(7), int64(1), object(1)\n",
      "memory usage: 14.0+ MB\n"
     ]
    }
   ],
   "source": [
    "data_train.info()"
   ]
  },
  {
   "cell_type": "code",
   "execution_count": 15,
   "metadata": {},
   "outputs": [
    {
     "name": "stdout",
     "output_type": "stream",
     "text": [
      "<class 'pandas.core.frame.DataFrame'>\n",
      "Int64Index: 46571 entries, 0 to 13893\n",
      "Data columns (total 8 columns):\n",
      "id     46571 non-null int64\n",
      "时间     46571 non-null object\n",
      "辐照度    46571 non-null float64\n",
      "风速     46571 non-null float64\n",
      "风向     46571 non-null int64\n",
      "温度     46571 non-null float64\n",
      "压强     46571 non-null float64\n",
      "湿度     46571 non-null float64\n",
      "dtypes: float64(5), int64(2), object(1)\n",
      "memory usage: 3.2+ MB\n"
     ]
    }
   ],
   "source": [
    "data_test.info()"
   ]
  },
  {
   "cell_type": "code",
   "execution_count": 6,
   "metadata": {},
   "outputs": [
    {
     "data": {
      "text/html": [
       "<div>\n",
       "<style scoped>\n",
       "    .dataframe tbody tr th:only-of-type {\n",
       "        vertical-align: middle;\n",
       "    }\n",
       "\n",
       "    .dataframe tbody tr th {\n",
       "        vertical-align: top;\n",
       "    }\n",
       "\n",
       "    .dataframe thead th {\n",
       "        text-align: right;\n",
       "    }\n",
       "</style>\n",
       "<table border=\"1\" class=\"dataframe\">\n",
       "  <thead>\n",
       "    <tr style=\"text-align: right;\">\n",
       "      <th></th>\n",
       "      <th>辐照度</th>\n",
       "      <th>风速</th>\n",
       "      <th>风向</th>\n",
       "      <th>温度</th>\n",
       "      <th>压强</th>\n",
       "      <th>湿度</th>\n",
       "      <th>实发辐照度</th>\n",
       "      <th>实际功率</th>\n",
       "    </tr>\n",
       "  </thead>\n",
       "  <tbody>\n",
       "    <tr>\n",
       "      <th>count</th>\n",
       "      <td>183093.000000</td>\n",
       "      <td>183093.000000</td>\n",
       "      <td>183093.000000</td>\n",
       "      <td>183093.000000</td>\n",
       "      <td>183093.000000</td>\n",
       "      <td>183093.000000</td>\n",
       "      <td>183093.000000</td>\n",
       "      <td>183093.000000</td>\n",
       "    </tr>\n",
       "    <tr>\n",
       "      <th>mean</th>\n",
       "      <td>-0.589675</td>\n",
       "      <td>-0.638823</td>\n",
       "      <td>169.799544</td>\n",
       "      <td>-0.015864</td>\n",
       "      <td>0.098247</td>\n",
       "      <td>-0.087954</td>\n",
       "      <td>217.638943</td>\n",
       "      <td>4.846102</td>\n",
       "    </tr>\n",
       "    <tr>\n",
       "      <th>std</th>\n",
       "      <td>0.549945</td>\n",
       "      <td>0.286773</td>\n",
       "      <td>96.834579</td>\n",
       "      <td>0.395048</td>\n",
       "      <td>0.301025</td>\n",
       "      <td>0.455642</td>\n",
       "      <td>320.772498</td>\n",
       "      <td>9.499288</td>\n",
       "    </tr>\n",
       "    <tr>\n",
       "      <th>min</th>\n",
       "      <td>-1.000000</td>\n",
       "      <td>-1.000000</td>\n",
       "      <td>0.000000</td>\n",
       "      <td>-1.000000</td>\n",
       "      <td>-1.000000</td>\n",
       "      <td>-1.000000</td>\n",
       "      <td>-0.020000</td>\n",
       "      <td>-0.397667</td>\n",
       "    </tr>\n",
       "    <tr>\n",
       "      <th>25%</th>\n",
       "      <td>-1.000000</td>\n",
       "      <td>-0.849057</td>\n",
       "      <td>96.000000</td>\n",
       "      <td>-0.337374</td>\n",
       "      <td>-0.090909</td>\n",
       "      <td>-0.458333</td>\n",
       "      <td>0.000000</td>\n",
       "      <td>-0.018000</td>\n",
       "    </tr>\n",
       "    <tr>\n",
       "      <th>50%</th>\n",
       "      <td>-0.965779</td>\n",
       "      <td>-0.716981</td>\n",
       "      <td>125.000000</td>\n",
       "      <td>-0.042424</td>\n",
       "      <td>0.090909</td>\n",
       "      <td>-0.145833</td>\n",
       "      <td>0.711000</td>\n",
       "      <td>0.000000</td>\n",
       "    </tr>\n",
       "    <tr>\n",
       "      <th>75%</th>\n",
       "      <td>-0.205323</td>\n",
       "      <td>-0.509434</td>\n",
       "      <td>275.000000</td>\n",
       "      <td>0.292929</td>\n",
       "      <td>0.333333</td>\n",
       "      <td>0.263158</td>\n",
       "      <td>382.333000</td>\n",
       "      <td>5.702330</td>\n",
       "    </tr>\n",
       "    <tr>\n",
       "      <th>max</th>\n",
       "      <td>1.000000</td>\n",
       "      <td>1.000000</td>\n",
       "      <td>359.000000</td>\n",
       "      <td>1.000000</td>\n",
       "      <td>1.000000</td>\n",
       "      <td>1.000000</td>\n",
       "      <td>1419.200000</td>\n",
       "      <td>48.834700</td>\n",
       "    </tr>\n",
       "  </tbody>\n",
       "</table>\n",
       "</div>"
      ],
      "text/plain": [
       "                 辐照度             风速             风向             温度  \\\n",
       "count  183093.000000  183093.000000  183093.000000  183093.000000   \n",
       "mean       -0.589675      -0.638823     169.799544      -0.015864   \n",
       "std         0.549945       0.286773      96.834579       0.395048   \n",
       "min        -1.000000      -1.000000       0.000000      -1.000000   \n",
       "25%        -1.000000      -0.849057      96.000000      -0.337374   \n",
       "50%        -0.965779      -0.716981     125.000000      -0.042424   \n",
       "75%        -0.205323      -0.509434     275.000000       0.292929   \n",
       "max         1.000000       1.000000     359.000000       1.000000   \n",
       "\n",
       "                  压强             湿度          实发辐照度           实际功率  \n",
       "count  183093.000000  183093.000000  183093.000000  183093.000000  \n",
       "mean        0.098247      -0.087954     217.638943       4.846102  \n",
       "std         0.301025       0.455642     320.772498       9.499288  \n",
       "min        -1.000000      -1.000000      -0.020000      -0.397667  \n",
       "25%        -0.090909      -0.458333       0.000000      -0.018000  \n",
       "50%         0.090909      -0.145833       0.711000       0.000000  \n",
       "75%         0.333333       0.263158     382.333000       5.702330  \n",
       "max         1.000000       1.000000    1419.200000      48.834700  "
      ]
     },
     "execution_count": 6,
     "metadata": {},
     "output_type": "execute_result"
    }
   ],
   "source": [
    "data_train.describe()"
   ]
  },
  {
   "cell_type": "code",
   "execution_count": 16,
   "metadata": {},
   "outputs": [
    {
     "data": {
      "text/html": [
       "<div>\n",
       "<style scoped>\n",
       "    .dataframe tbody tr th:only-of-type {\n",
       "        vertical-align: middle;\n",
       "    }\n",
       "\n",
       "    .dataframe tbody tr th {\n",
       "        vertical-align: top;\n",
       "    }\n",
       "\n",
       "    .dataframe thead th {\n",
       "        text-align: right;\n",
       "    }\n",
       "</style>\n",
       "<table border=\"1\" class=\"dataframe\">\n",
       "  <thead>\n",
       "    <tr style=\"text-align: right;\">\n",
       "      <th></th>\n",
       "      <th>id</th>\n",
       "      <th>辐照度</th>\n",
       "      <th>风速</th>\n",
       "      <th>风向</th>\n",
       "      <th>温度</th>\n",
       "      <th>压强</th>\n",
       "      <th>湿度</th>\n",
       "    </tr>\n",
       "  </thead>\n",
       "  <tbody>\n",
       "    <tr>\n",
       "      <th>count</th>\n",
       "      <td>46571.00000</td>\n",
       "      <td>46571.000000</td>\n",
       "      <td>46571.000000</td>\n",
       "      <td>46571.000000</td>\n",
       "      <td>46571.000000</td>\n",
       "      <td>46571.000000</td>\n",
       "      <td>46571.000000</td>\n",
       "    </tr>\n",
       "    <tr>\n",
       "      <th>mean</th>\n",
       "      <td>23286.00000</td>\n",
       "      <td>-0.529024</td>\n",
       "      <td>-0.639687</td>\n",
       "      <td>132.248051</td>\n",
       "      <td>0.355123</td>\n",
       "      <td>0.026480</td>\n",
       "      <td>0.319028</td>\n",
       "    </tr>\n",
       "    <tr>\n",
       "      <th>std</th>\n",
       "      <td>13444.03403</td>\n",
       "      <td>0.580424</td>\n",
       "      <td>0.227123</td>\n",
       "      <td>80.058099</td>\n",
       "      <td>0.207354</td>\n",
       "      <td>0.261409</td>\n",
       "      <td>0.389574</td>\n",
       "    </tr>\n",
       "    <tr>\n",
       "      <th>min</th>\n",
       "      <td>1.00000</td>\n",
       "      <td>-1.000000</td>\n",
       "      <td>-1.000000</td>\n",
       "      <td>0.000000</td>\n",
       "      <td>-0.256566</td>\n",
       "      <td>-0.696970</td>\n",
       "      <td>-0.812500</td>\n",
       "    </tr>\n",
       "    <tr>\n",
       "      <th>25%</th>\n",
       "      <td>11643.50000</td>\n",
       "      <td>-1.000000</td>\n",
       "      <td>-0.801887</td>\n",
       "      <td>90.000000</td>\n",
       "      <td>0.232323</td>\n",
       "      <td>-0.151515</td>\n",
       "      <td>0.043478</td>\n",
       "    </tr>\n",
       "    <tr>\n",
       "      <th>50%</th>\n",
       "      <td>23286.00000</td>\n",
       "      <td>-0.857434</td>\n",
       "      <td>-0.679245</td>\n",
       "      <td>104.000000</td>\n",
       "      <td>0.354167</td>\n",
       "      <td>0.000000</td>\n",
       "      <td>0.375000</td>\n",
       "    </tr>\n",
       "    <tr>\n",
       "      <th>75%</th>\n",
       "      <td>34928.50000</td>\n",
       "      <td>-0.098963</td>\n",
       "      <td>-0.518868</td>\n",
       "      <td>129.000000</td>\n",
       "      <td>0.503030</td>\n",
       "      <td>0.212121</td>\n",
       "      <td>0.625000</td>\n",
       "    </tr>\n",
       "    <tr>\n",
       "      <th>max</th>\n",
       "      <td>46571.00000</td>\n",
       "      <td>0.961977</td>\n",
       "      <td>0.636364</td>\n",
       "      <td>359.000000</td>\n",
       "      <td>0.904167</td>\n",
       "      <td>0.857143</td>\n",
       "      <td>1.000000</td>\n",
       "    </tr>\n",
       "  </tbody>\n",
       "</table>\n",
       "</div>"
      ],
      "text/plain": [
       "                id           辐照度            风速            风向            温度  \\\n",
       "count  46571.00000  46571.000000  46571.000000  46571.000000  46571.000000   \n",
       "mean   23286.00000     -0.529024     -0.639687    132.248051      0.355123   \n",
       "std    13444.03403      0.580424      0.227123     80.058099      0.207354   \n",
       "min        1.00000     -1.000000     -1.000000      0.000000     -0.256566   \n",
       "25%    11643.50000     -1.000000     -0.801887     90.000000      0.232323   \n",
       "50%    23286.00000     -0.857434     -0.679245    104.000000      0.354167   \n",
       "75%    34928.50000     -0.098963     -0.518868    129.000000      0.503030   \n",
       "max    46571.00000      0.961977      0.636364    359.000000      0.904167   \n",
       "\n",
       "                 压强            湿度  \n",
       "count  46571.000000  46571.000000  \n",
       "mean       0.026480      0.319028  \n",
       "std        0.261409      0.389574  \n",
       "min       -0.696970     -0.812500  \n",
       "25%       -0.151515      0.043478  \n",
       "50%        0.000000      0.375000  \n",
       "75%        0.212121      0.625000  \n",
       "max        0.857143      1.000000  "
      ]
     },
     "execution_count": 16,
     "metadata": {},
     "output_type": "execute_result"
    }
   ],
   "source": [
    "data_test.describe()"
   ]
  },
  {
   "cell_type": "code",
   "execution_count": null,
   "metadata": {},
   "outputs": [],
   "source": []
  }
 ],
 "metadata": {
  "kernelspec": {
   "display_name": "Python 3",
   "language": "python",
   "name": "python3"
  },
  "language_info": {
   "codemirror_mode": {
    "name": "ipython",
    "version": 3
   },
   "file_extension": ".py",
   "mimetype": "text/x-python",
   "name": "python",
   "nbconvert_exporter": "python",
   "pygments_lexer": "ipython3",
   "version": "3.7.3"
  },
  "toc": {
   "base_numbering": 1,
   "nav_menu": {},
   "number_sections": true,
   "sideBar": true,
   "skip_h1_title": false,
   "title_cell": "Table of Contents",
   "title_sidebar": "Contents",
   "toc_cell": false,
   "toc_position": {},
   "toc_section_display": true,
   "toc_window_display": false
  }
 },
 "nbformat": 4,
 "nbformat_minor": 2
}
